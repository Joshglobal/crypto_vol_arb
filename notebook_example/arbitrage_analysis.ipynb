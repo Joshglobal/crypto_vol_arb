{
 "cells": [
  {
   "cell_type": "markdown",
   "metadata": {},
   "source": [
    "### FTX MOVE and Deribit Straddle Arbitrage Analysis"
   ]
  },
  {
   "cell_type": "markdown",
   "metadata": {},
   "source": [
    "***This is only for educational purposes and is not investment or trading advice. Use at your own risk.***"
   ]
  },
  {
   "cell_type": "code",
   "execution_count": 1,
   "metadata": {},
   "outputs": [],
   "source": [
    "import sys\n",
    "sys.path.append(\"..\")\n",
    "\n",
    "# Load the crypto_vol python script\n",
    "import crypto_vol as cv"
   ]
  },
  {
   "cell_type": "code",
   "execution_count": 2,
   "metadata": {},
   "outputs": [],
   "source": [
    "# Retrieve all FTX MOVE contract names\n",
    "move_contracts = cv.FTX().get_move_contracts()\n",
    "move_contracts.sort()"
   ]
  },
  {
   "cell_type": "code",
   "execution_count": 3,
   "metadata": {},
   "outputs": [
    {
     "data": {
      "text/plain": [
       "['BTC-MOVE-0918',\n",
       " 'BTC-MOVE-0919',\n",
       " 'BTC-MOVE-2020Q3',\n",
       " 'BTC-MOVE-2020Q4',\n",
       " 'BTC-MOVE-2021Q1',\n",
       " 'BTC-MOVE-WK-0918',\n",
       " 'BTC-MOVE-WK-0925',\n",
       " 'BTC-MOVE-WK-1002',\n",
       " 'BTC-MOVE-WK-1009']"
      ]
     },
     "execution_count": 3,
     "metadata": {},
     "output_type": "execute_result"
    }
   ],
   "source": [
    "move_contracts"
   ]
  },
  {
   "cell_type": "markdown",
   "metadata": {},
   "source": [
    "Note: From my observations, I noticed MOVE contracts with 2 weeks to maturity tend to have the widest spreads. Today is Sept.18th/2020, so we will look at the Oct.2nd/2020 MOVE contract."
   ]
  },
  {
   "cell_type": "code",
   "execution_count": 4,
   "metadata": {},
   "outputs": [],
   "source": [
    "# Choose whichever FTX MOVE contract you would like to analyze below\n",
    "# You can manually tweak the strike/day threshold parameters to get a list of more Deribit options\n",
    "\n",
    "vol = cv.VolArb('BTC-MOVE-WK-1002', strike_threshold=300, days_threshold=1)"
   ]
  },
  {
   "cell_type": "code",
   "execution_count": 5,
   "metadata": {},
   "outputs": [
    {
     "data": {
      "text/html": [
       "<div>\n",
       "<style scoped>\n",
       "    .dataframe tbody tr th:only-of-type {\n",
       "        vertical-align: middle;\n",
       "    }\n",
       "\n",
       "    .dataframe tbody tr th {\n",
       "        vertical-align: top;\n",
       "    }\n",
       "\n",
       "    .dataframe thead th {\n",
       "        text-align: right;\n",
       "    }\n",
       "</style>\n",
       "<table border=\"1\" class=\"dataframe\">\n",
       "  <thead>\n",
       "    <tr style=\"text-align: right;\">\n",
       "      <th></th>\n",
       "      <th>option_type</th>\n",
       "      <th>strike</th>\n",
       "      <th>instrument_name</th>\n",
       "      <th>ftx_expiry_days</th>\n",
       "      <th>deribit_expiry_days</th>\n",
       "      <th>option_price</th>\n",
       "    </tr>\n",
       "  </thead>\n",
       "  <tbody>\n",
       "    <tr>\n",
       "      <th>0</th>\n",
       "      <td>call</td>\n",
       "      <td>10750.0</td>\n",
       "      <td>BTC-2OCT20-10750-C</td>\n",
       "      <td>14.256724</td>\n",
       "      <td>13.590047</td>\n",
       "      <td>439.477980</td>\n",
       "    </tr>\n",
       "    <tr>\n",
       "      <th>1</th>\n",
       "      <td>put</td>\n",
       "      <td>10750.0</td>\n",
       "      <td>BTC-2OCT20-10750-P</td>\n",
       "      <td>14.256724</td>\n",
       "      <td>13.590047</td>\n",
       "      <td>303.364667</td>\n",
       "    </tr>\n",
       "    <tr>\n",
       "      <th>2</th>\n",
       "      <td>call</td>\n",
       "      <td>11000.0</td>\n",
       "      <td>BTC-2OCT20-11000-C</td>\n",
       "      <td>14.256724</td>\n",
       "      <td>13.590047</td>\n",
       "      <td>319.295973</td>\n",
       "    </tr>\n",
       "    <tr>\n",
       "      <th>3</th>\n",
       "      <td>put</td>\n",
       "      <td>11000.0</td>\n",
       "      <td>BTC-2OCT20-11000-P</td>\n",
       "      <td>14.256724</td>\n",
       "      <td>13.590047</td>\n",
       "      <td>432.875157</td>\n",
       "    </tr>\n",
       "  </tbody>\n",
       "</table>\n",
       "</div>"
      ],
      "text/plain": [
       "  option_type   strike     instrument_name  ftx_expiry_days  \\\n",
       "0        call  10750.0  BTC-2OCT20-10750-C        14.256724   \n",
       "1         put  10750.0  BTC-2OCT20-10750-P        14.256724   \n",
       "2        call  11000.0  BTC-2OCT20-11000-C        14.256724   \n",
       "3         put  11000.0  BTC-2OCT20-11000-P        14.256724   \n",
       "\n",
       "   deribit_expiry_days  option_price  \n",
       "0            13.590047    439.477980  \n",
       "1            13.590047    303.364667  \n",
       "2            13.590047    319.295973  \n",
       "3            13.590047    432.875157  "
      ]
     },
     "execution_count": 5,
     "metadata": {},
     "output_type": "execute_result"
    }
   ],
   "source": [
    "# Retrieve the most similar Deribit contracts with respect to the BTC-MOVE-WK-1002 Contract\n",
    "data = vol.get_comparable_deribit()\n",
    "data"
   ]
  },
  {
   "cell_type": "code",
   "execution_count": 6,
   "metadata": {},
   "outputs": [
    {
     "name": "stdout",
     "output_type": "stream",
     "text": [
      "-21.619 % price differential between FTX MOVE and similar Deribit straddle\n"
     ]
    },
    {
     "data": {
      "text/html": [
       "<div>\n",
       "<style scoped>\n",
       "    .dataframe tbody tr th:only-of-type {\n",
       "        vertical-align: middle;\n",
       "    }\n",
       "\n",
       "    .dataframe tbody tr th {\n",
       "        vertical-align: top;\n",
       "    }\n",
       "\n",
       "    .dataframe thead th {\n",
       "        text-align: right;\n",
       "    }\n",
       "</style>\n",
       "<table border=\"1\" class=\"dataframe\">\n",
       "  <thead>\n",
       "    <tr style=\"text-align: right;\">\n",
       "      <th></th>\n",
       "      <th>deribit_straddle</th>\n",
       "      <th>ftx_move</th>\n",
       "      <th>difference</th>\n",
       "    </tr>\n",
       "  </thead>\n",
       "  <tbody>\n",
       "    <tr>\n",
       "      <th>Position</th>\n",
       "      <td>[BTC-2OCT20-10750-C, BTC-2OCT20-10750-P]</td>\n",
       "      <td>BTC-MOVE-WK-1002</td>\n",
       "      <td>NA</td>\n",
       "    </tr>\n",
       "    <tr>\n",
       "      <th>Price</th>\n",
       "      <td>742.843</td>\n",
       "      <td>582.25</td>\n",
       "      <td>160.593</td>\n",
       "    </tr>\n",
       "    <tr>\n",
       "      <th>Days Left</th>\n",
       "      <td>13.59</td>\n",
       "      <td>14.2567</td>\n",
       "      <td>-0.666677</td>\n",
       "    </tr>\n",
       "  </tbody>\n",
       "</table>\n",
       "</div>"
      ],
      "text/plain": [
       "                                   deribit_straddle          ftx_move  \\\n",
       "Position   [BTC-2OCT20-10750-C, BTC-2OCT20-10750-P]  BTC-MOVE-WK-1002   \n",
       "Price                                       742.843            582.25   \n",
       "Days Left                                     13.59           14.2567   \n",
       "\n",
       "          difference  \n",
       "Position          NA  \n",
       "Price        160.593  \n",
       "Days Left  -0.666677  "
      ]
     },
     "execution_count": 6,
     "metadata": {},
     "output_type": "execute_result"
    }
   ],
   "source": [
    "# Here we will only compare the 10,750 strike call and put\n",
    "# Note - make sure only to compare ONE call and ONE put - you need to extract the two rows using pandas `iloc`\n",
    "vol.compare(data.iloc[0:2])"
   ]
  },
  {
   "cell_type": "markdown",
   "metadata": {},
   "source": [
    "From the analysis above, it appears there is ~21% mispricing between the FTX MOVE and Deribit Straddle respectively. In this case, a trader could short the Deribit straddle and go long the FTX MOVE contract to capture the 21% difference in spread. The short straddle position on Deribit and corresponding long position on FTX should in theory remain delta-neutral and cancel out all greek exposures."
   ]
  }
 ],
 "metadata": {
  "kernelspec": {
   "display_name": "Python 3",
   "language": "python",
   "name": "python3"
  },
  "language_info": {
   "codemirror_mode": {
    "name": "ipython",
    "version": 3
   },
   "file_extension": ".py",
   "mimetype": "text/x-python",
   "name": "python",
   "nbconvert_exporter": "python",
   "pygments_lexer": "ipython3",
   "version": "3.7.4"
  }
 },
 "nbformat": 4,
 "nbformat_minor": 4
}
